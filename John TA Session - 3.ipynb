{
 "cells": [
  {
   "cell_type": "markdown",
   "metadata": {},
   "source": [
    "## Pep 8"
   ]
  },
  {
   "cell_type": "markdown",
   "metadata": {},
   "source": [
    "https://www.python.org/dev/peps/pep-0008/"
   ]
  },
  {
   "cell_type": "markdown",
   "metadata": {},
   "source": [
    "Pep 8 is a terrific guide on how to write code properly. If you have any questions on how some code should be formatted, it has likely been covered here."
   ]
  },
  {
   "cell_type": "markdown",
   "metadata": {},
   "source": [
    "### General Comments:\n",
    "- It's important to use proper variable names\n",
    "- It's good to show that your code works by using print statements\n",
    "- You shouldn't be using the same variable name for unrelated things\n",
    "  - It's okay to overwrite a variable if that overwritten variable is what you want, but you shouldn't just use my_var or x for every variable name\n",
    "- Import everything you want to use at the top of your code"
   ]
  },
  {
   "cell_type": "markdown",
   "metadata": {},
   "source": [
    "## Functions\n",
    "\n",
    "- A block of code that does not run unless called, and can be run many times"
   ]
  },
  {
   "cell_type": "code",
   "execution_count": 1,
   "metadata": {},
   "outputs": [],
   "source": [
    "def my_func(a, b):\n",
    "    c = [i*j for i,j in zip(a,b)]\n",
    "    d = sum(c)/sum(b)\n",
    "    return d"
   ]
  },
  {
   "cell_type": "markdown",
   "metadata": {},
   "source": [
    "Notice how no code is executed"
   ]
  },
  {
   "cell_type": "code",
   "execution_count": 2,
   "metadata": {},
   "outputs": [
    {
     "name": "stdout",
     "output_type": "stream",
     "text": [
      "3.575\n"
     ]
    }
   ],
   "source": [
    "e = my_func([2.7, 3.3, 4.0], [100, 300, 400])\n",
    "print(e)\n",
    "        "
   ]
  },
  {
   "cell_type": "markdown",
   "metadata": {},
   "source": [
    "Note that the name of the function is lower case with underscores. Variable names should follow the same convention. Put arguments and key word arguments inside the bracket after the name of the function. \n",
    "\n",
    "Also note, how hard it is to understand what the function is doing. Proper naming is very important, especially if you want to know what you did in the future."
   ]
  },
  {
   "cell_type": "code",
   "execution_count": 4,
   "metadata": {},
   "outputs": [
    {
     "name": "stdout",
     "output_type": "stream",
     "text": [
      "3.575\n"
     ]
    }
   ],
   "source": [
    "def gpa_calc(gpa_list, credit_hours):\n",
    "    '''\n",
    "    This function takes a list of gpas and a corresponding list of\n",
    "    credi hours and prints and returns the cummulative gpa.\n",
    "    Make sure that corresponding gpas and credit hours are \n",
    "    in the same location in each list.\n",
    "    '''\n",
    "    weighted_gpas = [gpa*hour for gpa,hour in zip(gpa_list,credit_hours)]\n",
    "    total_gpa = sum(weighted_gpas)/sum(credit_hours)\n",
    "    print(total_gpa)\n",
    "    return total_gpa\n",
    "\n",
    "john_gpa = gpa_calc([2.7, 3.3, 4.0], [100, 300, 400])"
   ]
  },
  {
   "cell_type": "markdown",
   "metadata": {},
   "source": [
    "Return defaults to none. If a function has no return it will simply execute the code and return none."
   ]
  },
  {
   "cell_type": "code",
   "execution_count": 5,
   "metadata": {},
   "outputs": [
    {
     "name": "stdout",
     "output_type": "stream",
     "text": [
      "3.85\n",
      "None\n"
     ]
    }
   ],
   "source": [
    "def print_gpa(gpa_list, credit_hours):\n",
    "    weighted_gpas = [gpa*hour for gpa,hour in zip(gpa_list,credit_hours)]\n",
    "    total_gpa = sum(weighted_gpas)/sum(credit_hours)\n",
    "    print (total_gpa)\n",
    "\n",
    "josh_gpa = print_gpa([3.7, 3.7, 4.0], [100, 300, 400])\n",
    "print(josh_gpa)"
   ]
  },
  {
   "cell_type": "markdown",
   "metadata": {},
   "source": [
    "You can run a function as many times as you want."
   ]
  },
  {
   "cell_type": "code",
   "execution_count": 6,
   "metadata": {},
   "outputs": [
    {
     "name": "stdout",
     "output_type": "stream",
     "text": [
      "3.74\n",
      "2.6875\n",
      "2.911111111111111\n",
      "4.0\n"
     ]
    }
   ],
   "source": [
    "sara_gpa = gpa_calc([3.7, 3.3, 4.0], [400, 200, 400])\n",
    "tom_gpa = gpa_calc([2.0, 2.3, 3.3], [300, 100, 400])\n",
    "maria_gpa = gpa_calc([1.7, 2.7, 4.0], [200, 400, 300])\n",
    "linda_gpa = gpa_calc([4.0, 4.0, 4.0], [400, 300, 200])"
   ]
  },
  {
   "cell_type": "markdown",
   "metadata": {},
   "source": [
    "- Global variables: A variable defined in the global name space. This variable will show up in the variable explorer on Spyder. \n",
    " - gpas and hours are global variables\n",
    " \n",
    "- Local variables: A variable defined within some other chunk of code and never stored in the global name space. These variables will not show up in the variable explorer on Spyder. \n",
    " - total_gpa is an example of a local variable"
   ]
  },
  {
   "cell_type": "code",
   "execution_count": 7,
   "metadata": {},
   "outputs": [
    {
     "name": "stdout",
     "output_type": "stream",
     "text": [
      "3.575\n",
      "3.575\n"
     ]
    },
    {
     "ename": "NameError",
     "evalue": "name 'total_gpa' is not defined",
     "output_type": "error",
     "traceback": [
      "\u001b[1;31m---------------------------------------------------------------------------\u001b[0m",
      "\u001b[1;31mNameError\u001b[0m                                 Traceback (most recent call last)",
      "\u001b[1;32m<ipython-input-7-5da77269b936>\u001b[0m in \u001b[0;36m<module>\u001b[1;34m\u001b[0m\n\u001b[0;32m      9\u001b[0m \u001b[0mglobal_gpa\u001b[0m \u001b[1;33m=\u001b[0m \u001b[0mgpa_global\u001b[0m\u001b[1;33m(\u001b[0m\u001b[1;33m)\u001b[0m\u001b[1;33m\u001b[0m\u001b[1;33m\u001b[0m\u001b[0m\n\u001b[0;32m     10\u001b[0m \u001b[0mprint\u001b[0m\u001b[1;33m(\u001b[0m\u001b[0mglobal_gpa\u001b[0m\u001b[1;33m)\u001b[0m\u001b[1;33m\u001b[0m\u001b[1;33m\u001b[0m\u001b[0m\n\u001b[1;32m---> 11\u001b[1;33m \u001b[0mprint\u001b[0m\u001b[1;33m(\u001b[0m\u001b[0mtotal_gpa\u001b[0m\u001b[1;33m)\u001b[0m\u001b[1;33m\u001b[0m\u001b[1;33m\u001b[0m\u001b[0m\n\u001b[0m",
      "\u001b[1;31mNameError\u001b[0m: name 'total_gpa' is not defined"
     ]
    }
   ],
   "source": [
    "gpas = [2.7, 3.3, 4.0]\n",
    "hours = [100, 300, 400]\n",
    "def gpa_global():\n",
    "    unweighted_gpas = [gpa*hour for gpa,hour in zip(gpas,hours)]    \n",
    "    total_gpa = sum(unweighted_gpas)/sum(hours)\n",
    "    print(total_gpa)\n",
    "    return total_gpa\n",
    "\n",
    "global_gpa = gpa_global()\n",
    "print(global_gpa)\n",
    "print(total_gpa)"
   ]
  },
  {
   "cell_type": "markdown",
   "metadata": {},
   "source": [
    "Global variables shouldn't be hard coded into a function. Here is a better way to do this:"
   ]
  },
  {
   "cell_type": "code",
   "execution_count": 8,
   "metadata": {},
   "outputs": [
    {
     "name": "stdout",
     "output_type": "stream",
     "text": [
      "3.575\n"
     ]
    }
   ],
   "source": [
    "gpas = [2.7, 3.3, 4.0]\n",
    "hours = [100, 300, 400]\n",
    "def gpa_local(gpa_list,hour_list):\n",
    "    unweighted_gpas = [gpa*hour for gpa,hour in zip(gpa_list,hour_list)]    \n",
    "    total_gpa = sum(unweighted_gpas)/sum(hours)\n",
    "    print(total_gpa)\n",
    "    return total_gpa\n",
    "\n",
    "global_gpa = gpa_local(gpas,hours)"
   ]
  },
  {
   "cell_type": "markdown",
   "metadata": {},
   "source": [
    "Arguments (args) don't have any default assignment, while key word arguments (kwargs) do. Key word arguments (kwargs) must follow arguments (args)."
   ]
  },
  {
   "cell_type": "code",
   "execution_count": 9,
   "metadata": {},
   "outputs": [
    {
     "name": "stdout",
     "output_type": "stream",
     "text": [
      "[('house_1', 'hospital'), ('house_1', 'market'), ('house_1', 'school'), ('house_1', 'theater'), ('house_2', 'hospital'), ('house_2', 'market'), ('house_2', 'school'), ('house_2', 'theater')]\n"
     ]
    }
   ],
   "source": [
    "def combine_dicts(dict1, dict2, key1='name', key2='name'):\n",
    "    '''\n",
    "    This function takes in two dictionaries and the keys you want to combine and creates a tuple \n",
    "    combination for each key pair. For example if the two keys are 'name' and\n",
    "    those names are plant_i and hospital_j,then it will create a tuple for \n",
    "    each hospital plant combination. \n",
    "    '''\n",
    "    dict1_key=[]\n",
    "    for element in dict1:\n",
    "        dict1_key.append(element[key1])\n",
    "    dict2_key=[]\n",
    "    for element in dict2:\n",
    "        dict2_key.append(element[key2])\n",
    "    tup_lst = []\n",
    "    for keyi in dict1_key:\n",
    "        for keyj in dict2_key:\n",
    "            tup_lst.append((keyi,keyj))\n",
    "    return tup_lst\n",
    "\n",
    "houses = [\n",
    "    {'name':'house_1', 'location':200},\n",
    "    {'name':'house_2', 'location':50},]\n",
    "\n",
    "\n",
    "places = [\n",
    "    {'name':'hospital', 'location':50},\n",
    "    {'name':'market', 'location':75},\n",
    "    {'name':'school', 'location':121},\n",
    "    {'name':'theater', 'location':231},\n",
    "]\n",
    "\n",
    "tuple_list = combine_dicts(houses, places)\n",
    "print(tuple_list)"
   ]
  },
  {
   "cell_type": "markdown",
   "metadata": {},
   "source": [
    "If you want to replace the default you can do that."
   ]
  },
  {
   "cell_type": "code",
   "execution_count": 10,
   "metadata": {},
   "outputs": [
    {
     "name": "stdout",
     "output_type": "stream",
     "text": [
      "[(200, 50), (200, 75), (200, 121), (200, 231), (50, 50), (50, 75), (50, 121), (50, 231)]\n"
     ]
    }
   ],
   "source": [
    "tuple_lst_location = combine_dicts(houses, places, 'location', 'location')\n",
    "print(tuple_lst_location)"
   ]
  },
  {
   "cell_type": "markdown",
   "metadata": {},
   "source": [
    "One good way to use key word arguments is with boolians."
   ]
  },
  {
   "cell_type": "code",
   "execution_count": 11,
   "metadata": {},
   "outputs": [],
   "source": [
    "def exponent_list(num_list, exponent, print_element=False, print_list=False):\n",
    "    '''\n",
    "    This function takes a list of numbers and the power you want to \n",
    "    raise each element in the list two and returns a new list. If \n",
    "    you want to print each new element specify print_element=True.\n",
    "    '''\n",
    "    new_list = [num**exponent for num in num_list]\n",
    "    if print_element:\n",
    "        for num in new_list:\n",
    "            print(num)\n",
    "    if print_list:\n",
    "        print(new_list)\n",
    "    return new_list"
   ]
  },
  {
   "cell_type": "code",
   "execution_count": 12,
   "metadata": {},
   "outputs": [
    {
     "name": "stdout",
     "output_type": "stream",
     "text": [
      "[8, 64, 512, 4096, 32768, 262144]\n"
     ]
    }
   ],
   "source": [
    "multiples_2 = [2,4,8,16,32,64]\n",
    "new_multiples_2 = exponent_list(multiples_2, 3)\n",
    "print(new_multiples_2)"
   ]
  },
  {
   "cell_type": "code",
   "execution_count": 13,
   "metadata": {},
   "outputs": [
    {
     "name": "stdout",
     "output_type": "stream",
     "text": [
      "8\n",
      "64\n",
      "512\n",
      "4096\n",
      "32768\n",
      "262144\n"
     ]
    }
   ],
   "source": [
    "new_multiples_2 = exponent_list(multiples_2, 3, True)"
   ]
  },
  {
   "cell_type": "code",
   "execution_count": 14,
   "metadata": {},
   "outputs": [
    {
     "name": "stdout",
     "output_type": "stream",
     "text": [
      "[8, 64, 512, 4096, 32768, 262144]\n"
     ]
    }
   ],
   "source": [
    "new_multiples_2 = exponent_list(num_list=multiples_2, exponent=3, print_list=True)"
   ]
  },
  {
   "cell_type": "code",
   "execution_count": null,
   "metadata": {},
   "outputs": [],
   "source": []
  }
 ],
 "metadata": {
  "kernelspec": {
   "display_name": "Python 3",
   "language": "python",
   "name": "python3"
  },
  "language_info": {
   "codemirror_mode": {
    "name": "ipython",
    "version": 3
   },
   "file_extension": ".py",
   "mimetype": "text/x-python",
   "name": "python",
   "nbconvert_exporter": "python",
   "pygments_lexer": "ipython3",
   "version": "3.7.6"
  }
 },
 "nbformat": 4,
 "nbformat_minor": 4
}
